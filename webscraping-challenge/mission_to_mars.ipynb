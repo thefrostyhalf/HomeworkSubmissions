{
 "cells": [
  {
   "cell_type": "code",
   "execution_count": 49,
   "metadata": {},
   "outputs": [],
   "source": [
    "from bs4 import BeautifulSoup as bs\n",
    "import requests\n",
    "from selenium import webdriver\n",
    "from splinter import Browser\n",
    "import time\n",
    "import json\n",
    "import tweepy\n",
    "import apikeys\n",
    "import pandas as pd\n",
    "import seaborn as sns\n",
    "import matplotlib.pyplot as plt\n",
    "import numpy as np\n",
    "import os"
   ]
  },
  {
   "cell_type": "code",
   "execution_count": 50,
   "metadata": {},
   "outputs": [],
   "source": [
    "url = 'https://mars.nasa.gov/news/'\n",
    "path = '/Users/jackiemcguire/Desktop/portfolio/10-10-2017-UCB-Class-Repository-DATA/Homework/webscraping-challenge/chromedriver'\n",
    "browser = webdriver.Chrome(path) \n",
    "# Retrieve page with the 'get' function from the browser object.  Then using\n",
    "# 'page_source function to get html text\n",
    "\n",
    "browser.get(url)\n",
    "html = browser.page_source\n",
    "\n",
    "# Create BeautifulSoup object; parse with 'html.parser'\n",
    "soup = bs(html, 'html.parser')\n",
    "browser.close()"
   ]
  },
  {
   "cell_type": "code",
   "execution_count": 51,
   "metadata": {},
   "outputs": [],
   "source": [
    "soup_li = soup.find_all('li', class_='slide')"
   ]
  },
  {
   "cell_type": "code",
   "execution_count": 52,
   "metadata": {},
   "outputs": [],
   "source": [
    "titleslist = []\n",
    "pgphlist = []\n",
    "\n",
    "for article in soup_li:\n",
    "    title = article.find('div', class_='content_title').text\n",
    "    paragraph = article.find('div', class_='article_teaser_body').text\n",
    "    titleslist.append(title)\n",
    "    pgphlist.append(paragraph)"
   ]
  },
  {
   "cell_type": "code",
   "execution_count": 53,
   "metadata": {},
   "outputs": [],
   "source": [
    "splint_browser = Browser('chrome', executable_path=path,\n",
    "                  headless=False)\n",
    "\n",
    "url = 'https://www.jpl.nasa.gov/spaceimages/?search=&category=Mars'\n",
    "splint_browser.visit(url)\n",
    "splint_browser.click_link_by_partial_text('FULL IMAGE')\n",
    "time.sleep(2)\n",
    "splint_browser.click_link_by_partial_text('more info')"
   ]
  },
  {
   "cell_type": "code",
   "execution_count": 54,
   "metadata": {},
   "outputs": [],
   "source": [
    "html = splint_browser.html\n",
    "soup = bs(html, 'html.parser')\n",
    "splint_browser.quit()"
   ]
  },
  {
   "cell_type": "code",
   "execution_count": 55,
   "metadata": {},
   "outputs": [],
   "source": [
    "image_src = soup.find_all('figure', class_='lede')"
   ]
  },
  {
   "cell_type": "code",
   "execution_count": 56,
   "metadata": {},
   "outputs": [
    {
     "name": "stdout",
     "output_type": "stream",
     "text": [
      "/spaceimages/images/largesize/PIA19382_hires.jpg\n"
     ]
    }
   ],
   "source": [
    "for each in image_src:\n",
    "    print(each.a['href'])\n",
    "    featured_image_url = 'https://www.jpl.nasa.gov'+each.a['href']"
   ]
  },
  {
   "cell_type": "code",
   "execution_count": 57,
   "metadata": {},
   "outputs": [
    {
     "name": "stdout",
     "output_type": "stream",
     "text": [
      "Sol 2012 (April 04, 2018), Sunny, high -7C/19F, low -74C/-101F, pressure at 7.15 hPa, daylight 05:29-17:22\n"
     ]
    }
   ],
   "source": [
    "consumer_key = apikeys.TWITTER_CONSUMER_KEY\n",
    "consumer_secret = apikeys.TWITTER_CONSUMER_SECRET\n",
    "access_token = apikeys.TWITTER_ACCESS_TOKEN\n",
    "access_token_secret = apikeys.TWITTER_ACCESS_TOKEN_SECRET\n",
    "auth = tweepy.OAuthHandler(consumer_key, consumer_secret)\n",
    "auth.set_access_token(access_token, access_token_secret)\n",
    "api = tweepy.API(auth, parser=tweepy.parsers.JSONParser())\n",
    "\n",
    "public_tweets = api.user_timeline('marswxreport', count = 3)\n",
    "for tweet in public_tweets:\n",
    "    if ((\"hPa\" in tweet['text']) and (\"Sol\" in tweet['text'])):\n",
    "        mars_weather = tweet['text']\n",
    "        break\n",
    "        \n",
    "print(mars_weather)"
   ]
  },
  {
   "cell_type": "code",
   "execution_count": 58,
   "metadata": {},
   "outputs": [
    {
     "name": "stdout",
     "output_type": "stream",
     "text": [
      "                      0                              1\n",
      "0  Equatorial Diameter:                       6,792 km\n",
      "1       Polar Diameter:                       6,752 km\n",
      "2                 Mass:  6.42 x 10^23 kg (10.7% Earth)\n",
      "3                Moons:            2 (Phobos & Deimos)\n",
      "4       Orbit Distance:       227,943,824 km (1.52 AU)\n",
      "5         Orbit Period:           687 days (1.9 years)\n",
      "6  Surface Temperature:                  -153 to 20 °C\n",
      "7         First Record:              2nd millennium BC\n",
      "8          Recorded By:           Egyptian astronomers\n",
      "Tablelength: 1\n"
     ]
    }
   ],
   "source": [
    "url_tables = 'https://space-facts.com/mars/'\n",
    "\n",
    "tables = pd.read_html(url_tables)\n",
    "\n",
    "for each in tables:\n",
    "    print(each)\n",
    "    print(\"Tablelength: \" + str(len(tables)))\n",
    "    table_df = pd.DataFrame(tables[0])"
   ]
  },
  {
   "cell_type": "code",
   "execution_count": 59,
   "metadata": {},
   "outputs": [
    {
     "data": {
      "text/html": [
       "<div>\n",
       "<style scoped>\n",
       "    .dataframe tbody tr th:only-of-type {\n",
       "        vertical-align: middle;\n",
       "    }\n",
       "\n",
       "    .dataframe tbody tr th {\n",
       "        vertical-align: top;\n",
       "    }\n",
       "\n",
       "    .dataframe thead th {\n",
       "        text-align: right;\n",
       "    }\n",
       "</style>\n",
       "<table border=\"1\" class=\"dataframe\">\n",
       "  <thead>\n",
       "    <tr style=\"text-align: right;\">\n",
       "      <th></th>\n",
       "      <th>mars_data</th>\n",
       "    </tr>\n",
       "    <tr>\n",
       "      <th>planet_profile</th>\n",
       "      <th></th>\n",
       "    </tr>\n",
       "  </thead>\n",
       "  <tbody>\n",
       "    <tr>\n",
       "      <th>Equatorial Diameter:</th>\n",
       "      <td>6,792 km</td>\n",
       "    </tr>\n",
       "    <tr>\n",
       "      <th>Polar Diameter:</th>\n",
       "      <td>6,752 km</td>\n",
       "    </tr>\n",
       "    <tr>\n",
       "      <th>Mass:</th>\n",
       "      <td>6.42 x 10^23 kg (10.7% Earth)</td>\n",
       "    </tr>\n",
       "    <tr>\n",
       "      <th>Moons:</th>\n",
       "      <td>2 (Phobos &amp; Deimos)</td>\n",
       "    </tr>\n",
       "    <tr>\n",
       "      <th>Orbit Distance:</th>\n",
       "      <td>227,943,824 km (1.52 AU)</td>\n",
       "    </tr>\n",
       "  </tbody>\n",
       "</table>\n",
       "</div>"
      ],
      "text/plain": [
       "                                          mars_data\n",
       "planet_profile                                     \n",
       "Equatorial Diameter:                       6,792 km\n",
       "Polar Diameter:                            6,752 km\n",
       "Mass:                 6.42 x 10^23 kg (10.7% Earth)\n",
       "Moons:                          2 (Phobos & Deimos)\n",
       "Orbit Distance:            227,943,824 km (1.52 AU)"
      ]
     },
     "execution_count": 59,
     "metadata": {},
     "output_type": "execute_result"
    }
   ],
   "source": [
    "table_df = table_df.rename(columns={0:\"planet_profile\", 1:\"mars_data\"})\n",
    "table_df = table_df.set_index('planet_profile')\n",
    "table_df.head()"
   ]
  },
  {
   "cell_type": "code",
   "execution_count": 60,
   "metadata": {},
   "outputs": [],
   "source": [
    "table_html = pd.DataFrame.to_html(table_df)\n",
    "hemispheres = pd.DataFrame(columns=['title', 'img_url'])"
   ]
  },
  {
   "cell_type": "code",
   "execution_count": 61,
   "metadata": {},
   "outputs": [
    {
     "name": "stdout",
     "output_type": "stream",
     "text": [
      "Cerberus Hemisphere Enhanced\n",
      "Schiaparelli Hemisphere Enhanced\n",
      "Syrtis Major Hemisphere Enhanced\n",
      "Valles Marineris Hemisphere Enhanced\n"
     ]
    }
   ],
   "source": [
    "splint_browser = Browser('chrome', executable_path=path,\n",
    "                  headless=False)\n",
    "\n",
    "url = 'https://astrogeology.usgs.gov/search/results?q=hemisphere+enhanced&k1=target&v1=Mars'\n",
    "splint_browser.visit(url)\n",
    "\n",
    "hemisphere_list = []\n",
    "\n",
    "html = splint_browser.html\n",
    "soup = bs(html, 'html.parser')\n",
    "findHemisphere = soup.find_all('div', class_='item')\n",
    "\n",
    "for each in findHemisphere:\n",
    "    print(each.h3.text)\n",
    "    hemisphere_list.append(each.h3.text)\n",
    "    \n",
    "splint_browser.quit()"
   ]
  },
  {
   "cell_type": "code",
   "execution_count": 63,
   "metadata": {},
   "outputs": [],
   "source": [
    "hemisphere_image = []\n",
    "\n",
    "for eachHemi in hemisphere_list:\n",
    "\n",
    "    splint_browser = Browser('chrome', executable_path=path,\n",
    "                  headless=False)\n",
    "    splint_browser.visit(url)\n",
    "    time.sleep(2)\n",
    "    splint_browser.click_link_by_partial_text(eachHemi)\n",
    "\n",
    "    time.sleep(2)\n",
    "    splint_browser.click_link_by_text('Sample')\n",
    "    #Line 23\n",
    "    splint_browser.windows.current = splint_browser.windows[1]\n",
    "    #Line 24\n",
    "    html = splint_browser.html\n",
    "    soup = bs(html, 'html.parser')\n",
    "    splint_browser.quit()\n",
    "    #Line 25\n",
    "    hemi_image = soup.body.find('img')['src']\n",
    "    \n",
    "    hemisphere_image.append(hemi_image)"
   ]
  },
  {
   "cell_type": "code",
   "execution_count": 66,
   "metadata": {},
   "outputs": [],
   "source": [
    "title_image_url = []\n",
    "title_image_tuple = zip(hemisphere_list, hemisphere_image)\n",
    "for each in title_image_tuple:\n",
    "    temp_dict = {}\n",
    "    temp_dict['title'] = each[0]\n",
    "    temp_dict['img_url'] = each[1]\n",
    "    title_image_url.append(temp_dict)\n",
    "mars_dict = {'News Title': title, 'News Paragraph': paragraph, 'Featured Image':\n",
    "    featured_image_url, 'Mars Weather': mars_weather, 'Mars Info': table_html,\n",
    "    'Hemisphere Images': title_image_url}"
   ]
  },
  {
   "cell_type": "code",
   "execution_count": null,
   "metadata": {},
   "outputs": [],
   "source": []
  }
 ],
 "metadata": {
  "kernelspec": {
   "display_name": "Python 3",
   "language": "python",
   "name": "python3"
  },
  "language_info": {
   "codemirror_mode": {
    "name": "ipython",
    "version": 3
   },
   "file_extension": ".py",
   "mimetype": "text/x-python",
   "name": "python",
   "nbconvert_exporter": "python",
   "pygments_lexer": "ipython3",
   "version": "3.6.4"
  }
 },
 "nbformat": 4,
 "nbformat_minor": 2
}
