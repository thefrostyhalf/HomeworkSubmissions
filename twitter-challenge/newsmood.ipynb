{
 "cells": [
  {
   "cell_type": "markdown",
   "metadata": {},
   "source": [
    "# News Mood\n",
    "\n",
    "## Goal: \n",
    "In this assignment, you'll create a Python script to perform a sentiment analysis of the Twitter activity of various news oulets, and to present your findings visually. ur final output should provide a visualized summary of the sentiments expressed in Tweets sent out by the following news organizations: __BBC, CBS, CNN, Fox, and New York Times.__\n"
   ]
  },
  {
   "cell_type": "code",
   "execution_count": 151,
   "metadata": {},
   "outputs": [],
   "source": [
    "import tweepy\n",
    "import numpy as np\n",
    "import apikeys\n",
    "from matplotlib import pyplot as plt\n",
    "import pandas as pd\n",
    "from datetime import datetime\n",
    "import pytz"
   ]
  },
  {
   "cell_type": "code",
   "execution_count": null,
   "metadata": {
    "collapsed": true
   },
   "outputs": [],
   "source": []
  },
  {
   "cell_type": "code",
   "execution_count": 122,
   "metadata": {
    "collapsed": true
   },
   "outputs": [],
   "source": [
    "from vaderSentiment.vaderSentiment import SentimentIntensityAnalyzer\n",
    "analyzer = SentimentIntensityAnalyzer()"
   ]
  },
  {
   "cell_type": "code",
   "execution_count": 123,
   "metadata": {
    "collapsed": true
   },
   "outputs": [],
   "source": [
    "consumer_key = apikeys.TWITTER_CONSUMER_KEY\n",
    "consumer_secret = apikeys.TWITTER_CONSUMER_SECRET\n",
    "access_token = apikeys.TWITTER_ACCESS_TOKEN\n",
    "access_token_secret = apikeys.TWITTER_ACCESS_TOKEN_SECRET\n",
    "\n",
    "auth = tweepy.OAuthHandler(consumer_key, consumer_secret)\n",
    "auth.set_access_token(access_token, access_token_secret)\n",
    "api = tweepy.API(auth, parser=tweepy.parsers.JSONParser())\n"
   ]
  },
  {
   "cell_type": "code",
   "execution_count": 222,
   "metadata": {},
   "outputs": [
    {
     "name": "stdout",
     "output_type": "stream",
     "text": [
      "Melbourne installs security warning system across city https://t.co/YmAQuqe0JR\n"
     ]
    },
    {
     "ename": "TypeError",
     "evalue": "'float' object is not subscriptable",
     "output_type": "error",
     "traceback": [
      "\u001b[0;31m---------------------------------------------------------------------------\u001b[0m",
      "\u001b[0;31mTypeError\u001b[0m                                 Traceback (most recent call last)",
      "\u001b[0;32m<ipython-input-222-b88dac8758f4>\u001b[0m in \u001b[0;36m<module>\u001b[0;34m()\u001b[0m\n\u001b[1;32m     19\u001b[0m                 \u001b[0;31m# Add dictionary of scores to the `sentiments` list\u001b[0m\u001b[0;34m\u001b[0m\u001b[0;34m\u001b[0m\u001b[0m\n\u001b[1;32m     20\u001b[0m                 sentiments.append({\"Date\": tweet[\"created_at\"][0:request_number], \n\u001b[0;32m---> 21\u001b[0;31m                        \"Compound\": compound[0:request_number]})\n\u001b[0m\u001b[1;32m     22\u001b[0m     \u001b[0msentiments_df\u001b[0m \u001b[0;34m=\u001b[0m \u001b[0mpd\u001b[0m\u001b[0;34m.\u001b[0m\u001b[0mDataFrame\u001b[0m\u001b[0;34m(\u001b[0m\u001b[0msentiments\u001b[0m\u001b[0;34m)\u001b[0m\u001b[0;34m\u001b[0m\u001b[0m\n\u001b[1;32m     23\u001b[0m                 \u001b[0;31m# Create a dataframe with sentiments\u001b[0m\u001b[0;34m\u001b[0m\u001b[0;34m\u001b[0m\u001b[0m\n",
      "\u001b[0;31mTypeError\u001b[0m: 'float' object is not subscriptable"
     ]
    }
   ],
   "source": [
    "# Target Search Term\n",
    "target_users = ['@BBCWorld', '@CBSNews', '@CNNbrk', '@FoxNews', '@nytimes']\n",
    "request_number=10\n",
    "# Create an empty list to hold sentiments.\n",
    "for user in target_users:\n",
    "    sentiments = []\n",
    "    dates = []\n",
    "    while request_number>=len(sentiments):\n",
    "        public_tweets = api.user_timeline(screen_name=user, count=request_number)\n",
    "        for tweet in public_tweets:\n",
    "            # Get text of tweet\n",
    "            text = tweet['text']\n",
    "            date = tweet[\"created_at\"]\n",
    "            if not text.startswith('RT'):   \n",
    "                print(text)\n",
    "                # Run Vader Analysis on each tweet\n",
    "                scores = analyzer.polarity_scores(tweet['text'])\n",
    "                compound = scores['compound']\n",
    "                # Add dictionary of scores to the `sentiments` list\n",
    "                sentiments.append({\"Date\": tweet[\"created_at\"][0:request_number], \n",
    "                       \"Compound\": compound[0:request_number]})\n",
    "    sentiments_df = pd.DataFrame(sentiments)        \n",
    "                # Create a dataframe with sentiments\n",
    "    print(sentiments_df)\n",
    "                # Get the average Sentiments\n",
    "    # Create plot\n",
    "\n"
   ]
  },
  {
   "cell_type": "code",
   "execution_count": 218,
   "metadata": {},
   "outputs": [
    {
     "ename": "AttributeError",
     "evalue": "'NoneType' object has no attribute 'head'",
     "output_type": "error",
     "traceback": [
      "\u001b[0;31m---------------------------------------------------------------------------\u001b[0m",
      "\u001b[0;31mAttributeError\u001b[0m                            Traceback (most recent call last)",
      "\u001b[0;32m<ipython-input-218-aedf600715e8>\u001b[0m in \u001b[0;36m<module>\u001b[0;34m()\u001b[0m\n\u001b[0;32m----> 1\u001b[0;31m \u001b[0mnews_df\u001b[0m\u001b[0;34m.\u001b[0m\u001b[0mhead\u001b[0m\u001b[0;34m(\u001b[0m\u001b[0;34m)\u001b[0m\u001b[0;34m\u001b[0m\u001b[0m\n\u001b[0m",
      "\u001b[0;31mAttributeError\u001b[0m: 'NoneType' object has no attribute 'head'"
     ]
    }
   ],
   "source": []
  },
  {
   "cell_type": "code",
   "execution_count": null,
   "metadata": {
    "collapsed": true
   },
   "outputs": [],
   "source": [
    "        plt.scatter(sentiments_df[\"compound\"], sentiments_df.columns[0], marker=\"o\", linewidth=0.5,\n",
    "                 alpha=0.8)\n",
    "\n",
    "#         # # Add title and labels\n",
    "        plt.title(f\"Sentiment Analysis of Tweets for {term}\")\n",
    "        plt.ylabel(\"Tweet Polarity\")\n",
    "        plt.xlabel(\"Tweets Ago\")\n",
    "        plt.xticks(rotation=70)\n",
    "        plt.show()"
   ]
  }
 ],
 "metadata": {
  "kernelspec": {
   "display_name": "Python 3",
   "language": "python",
   "name": "python3"
  },
  "language_info": {
   "codemirror_mode": {
    "name": "ipython",
    "version": 3
   },
   "file_extension": ".py",
   "mimetype": "text/x-python",
   "name": "python",
   "nbconvert_exporter": "python",
   "pygments_lexer": "ipython3",
   "version": "3.6.3"
  }
 },
 "nbformat": 4,
 "nbformat_minor": 2
}
