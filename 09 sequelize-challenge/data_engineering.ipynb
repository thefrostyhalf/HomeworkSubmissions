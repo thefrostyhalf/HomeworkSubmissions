{
 "cells": [
  {
   "cell_type": "code",
   "execution_count": 28,
   "metadata": {},
   "outputs": [],
   "source": [
    "import pandas as pd\n",
    "##read csv\n",
    "m_file = 'hawaii_measurements.csv'\n",
    "s_file = 'hawaii_stations.csv'\n",
    "measurements_df = pd.read_csv(m_file)\n",
    "station_df = pd.read_csv(s_file)"
   ]
  },
  {
   "cell_type": "code",
   "execution_count": 45,
   "metadata": {},
   "outputs": [
    {
     "name": "stdout",
     "output_type": "stream",
     "text": [
      "1447\n",
      "0.0799315030658\n"
     ]
    }
   ],
   "source": [
    "#find out which columns have nan values\n",
    "print(measurements_df.prcp.isnull().sum())\n",
    "#only 1 column but its the one we need data from\n",
    "print(measurements_df.prcp.isnull().sum()/measurements_df.prcp.count())\n",
    "#only 8% of data, so we will drop rows"
   ]
  },
  {
   "cell_type": "code",
   "execution_count": null,
   "metadata": {
    "collapsed": true
   },
   "outputs": [],
   "source": [
    "#only 1 column, but its the one we need. ~\n",
    "measurements_df=measurements_df.dropna(axis=0)\n",
    "#save to csv\n",
    "measurements_df.to_csv('measclean.csv')"
   ]
  },
  {
   "cell_type": "code",
   "execution_count": 43,
   "metadata": {},
   "outputs": [],
   "source": [
    "station_df.isnull().sum()\n",
    "#no nan values in station df\n",
    "station_df.to_csv('stationclean.csv')"
   ]
  },
  {
   "cell_type": "code",
   "execution_count": null,
   "metadata": {
    "collapsed": true
   },
   "outputs": [],
   "source": []
  }
 ],
 "metadata": {
  "kernelspec": {
   "display_name": "Python 3",
   "language": "python",
   "name": "python3"
  },
  "language_info": {
   "codemirror_mode": {
    "name": "ipython",
    "version": 3
   },
   "file_extension": ".py",
   "mimetype": "text/x-python",
   "name": "python",
   "nbconvert_exporter": "python",
   "pygments_lexer": "ipython3",
   "version": "3.6.3"
  }
 },
 "nbformat": 4,
 "nbformat_minor": 2
}
