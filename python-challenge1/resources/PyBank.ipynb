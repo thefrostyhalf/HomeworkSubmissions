{
 "cells": [
  {
   "cell_type": "code",
   "execution_count": 1,
   "metadata": {
    "collapsed": true
   },
   "outputs": [],
   "source": [
    "import os\n",
    "import csv\n",
    "filename = 'budget_data_1.csv'\n",
    "csvpath = os.path.join(filename)\n",
    "with open(csvpath, newline='') as csvfile:\n",
    "    csvreader = csv.reader(csvfile, delimiter=',')\n",
    "    previous = [0 , 0]\n",
    "    months = 0\n",
    "    revtot = 0\n",
    "    maxgain = [0, 0]\n",
    "    maxloss = [0 , 0]\n",
    "    revchangetotal = 0\n",
    "    hasheader = True\n",
    "    for row in csvreader:\n",
    "        if hasheader: \n",
    "            hasheader = False\n",
    "            next(csvreader)\n",
    "        else:\n",
    "            periodchange = (int(previous [1])) - (int(row[1]))\n",
    "            revchangetotal = revchangetotal+int(periodchange)\n",
    "            months = months + 1\n",
    "            revtot = int(revtot) + int(row[1])\n",
    "            if int(periodchange) >= int(maxgain[1]):\n",
    "                maxloss = row\n",
    "            elif int(periodchange) <= int(maxloss[1]):\n",
    "                maxgain = row\n",
    "            previous = row\n",
    "file_output = open(\"PyBank.txt\", \"w\")\n",
    "with file_output:\n",
    "    print(\"Financial Analysis\\n ----------------------------- \\n Total Months: \" + str(months) +\"\\n Total Revenue: \" +str(revtot)+\"\\n Average Revenue Change: \"+ str(revchangetotal/months) +\"\\n Greatest Increase in Revenue: \"+ str(maxgain) + \"\\n Greatest Decrease in Revenue: \"+ str(maxloss), file=file_output)        \n",
    "\n",
    "        "
   ]
  },
  {
   "cell_type": "code",
   "execution_count": null,
   "metadata": {
    "collapsed": true
   },
   "outputs": [],
   "source": []
  },
  {
   "cell_type": "code",
   "execution_count": null,
   "metadata": {
    "collapsed": true
   },
   "outputs": [],
   "source": []
  }
 ],
 "metadata": {
  "kernelspec": {
   "display_name": "Python 3",
   "language": "python",
   "name": "python3"
  },
  "language_info": {
   "codemirror_mode": {
    "name": "ipython",
    "version": 3
   },
   "file_extension": ".py",
   "mimetype": "text/x-python",
   "name": "python",
   "nbconvert_exporter": "python",
   "pygments_lexer": "ipython3",
   "version": "3.6.3"
  }
 },
 "nbformat": 4,
 "nbformat_minor": 2
}
