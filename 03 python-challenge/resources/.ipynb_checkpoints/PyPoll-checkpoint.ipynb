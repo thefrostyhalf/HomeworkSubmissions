{
 "cells": [
  {
   "cell_type": "code",
   "execution_count": 18,
   "metadata": {},
   "outputs": [
    {
     "name": "stdout",
     "output_type": "stream",
     "text": [
      "{'Correy': 704200, 'Khan': 2218230, 'Li': 492940, \"O'Tooley\": 105630}\n"
     ]
    }
   ],
   "source": [
    "import os\n",
    "import csv\n",
    "from collections import Counter\n",
    "filename = 'election_data_2.csv'\n",
    "csvpath = os.path.join(filename)\n",
    "header = True\n",
    "results = {}\n",
    "with open(csvpath, newline='') as csvfile:\n",
    "    csvreader = csv.reader(csvfile, delimiter=',')\n",
    "    for row in csvreader:\n",
    "        candidate=row[2]\n",
    "        if header== True:\n",
    "            header = False\n",
    "            next(csvfile)\n",
    "        else:\n",
    "            if candidate in results:\n",
    "                results[candidate] += 1\n",
    "            else:\n",
    "                results[candidate] = 1\n",
    "print(results)\n",
    "\n",
    "winner = max(results.values())\n"
   ]
  },
  {
   "cell_type": "code",
   "execution_count": 19,
   "metadata": {},
   "outputs": [
    {
     "name": "stdout",
     "output_type": "stream",
     "text": [
      "[(\"O'Tooley\", 105630), ('Li', 492940), ('Correy', 704200), ('Khan', 2218230)]\n",
      "('Khan', 2218230)\n"
     ]
    }
   ],
   "source": [
    "winner = max(results.items(), key=lambda k: k[1])\n",
    "resultorder=sorted(results.items(), key=lambda x:x[1])\n",
    "print(resultorder)\n",
    "print(winner)\n"
   ]
  },
  {
   "cell_type": "code",
   "execution_count": null,
   "metadata": {
    "collapsed": true
   },
   "outputs": [],
   "source": []
  },
  {
   "cell_type": "code",
   "execution_count": 20,
   "metadata": {
    "collapsed": true
   },
   "outputs": [],
   "source": [
    "file_output = open(\"PyPoll.txt\", \"w\")\n",
    "with file_output:\n",
    "    print(\"Election Results: \\n----------------------------- \\n\", file=file_output)\n",
    "    for k, v in resultorder:\n",
    "        print (k, ':     ', v, file=file_output)\n",
    "    print(\"The winner is \" +str(winner[0])+\" with \"+str(winner[1])+\" votes!\", file=file_output)"
   ]
  },
  {
   "cell_type": "code",
   "execution_count": null,
   "metadata": {
    "collapsed": true
   },
   "outputs": [],
   "source": []
  },
  {
   "cell_type": "code",
   "execution_count": null,
   "metadata": {
    "collapsed": true
   },
   "outputs": [],
   "source": []
  },
  {
   "cell_type": "code",
   "execution_count": null,
   "metadata": {
    "collapsed": true
   },
   "outputs": [],
   "source": []
  }
 ],
 "metadata": {
  "kernelspec": {
   "display_name": "Python 3",
   "language": "python",
   "name": "python3"
  },
  "language_info": {
   "codemirror_mode": {
    "name": "ipython",
    "version": 3
   },
   "file_extension": ".py",
   "mimetype": "text/x-python",
   "name": "python",
   "nbconvert_exporter": "python",
   "pygments_lexer": "ipython3",
   "version": "3.6.3"
  }
 },
 "nbformat": 4,
 "nbformat_minor": 2
}
